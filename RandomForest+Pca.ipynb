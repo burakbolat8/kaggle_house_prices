{
 "cells": [
  {
   "cell_type": "code",
   "execution_count": 3,
   "id": "693032c5",
   "metadata": {},
   "outputs": [],
   "source": [
    "import pandas as pd \n",
    "from sklearn.ensemble import RandomForestRegressor"
   ]
  },
  {
   "cell_type": "code",
   "execution_count": 11,
   "id": "6be0b529",
   "metadata": {},
   "outputs": [],
   "source": [
    "train_data = pd.read_csv(\"train_data.csv\")\n",
    "test_data = pd.read_csv(\"test_data.csv\")\n",
    "test = pd.read_csv(\"test.csv\")"
   ]
  },
  {
   "cell_type": "code",
   "execution_count": 5,
   "id": "b96e3c96",
   "metadata": {},
   "outputs": [],
   "source": [
    "X_train = train_data.drop([\"SalePrice\"],axis = 1)\n",
    "y_train = train_data[\"SalePrice\"]\n",
    "\n",
    "X_test = test_data.drop([\"SalePrice\"],axis = 1)"
   ]
  },
  {
   "cell_type": "code",
   "execution_count": 16,
   "id": "7461ec73",
   "metadata": {},
   "outputs": [],
   "source": [
    "from sklearn.decomposition import PCA\n",
    "\n",
    "pca = PCA(n_components = 0.95,random_state=0)\n",
    "pca_values = pca.fit_transform(train_data.drop(\"SalePrice\",axis=1))\n",
    "pca_data = pd.DataFrame(pca_values)"
   ]
  },
  {
   "cell_type": "code",
   "execution_count": 22,
   "id": "419450b0",
   "metadata": {},
   "outputs": [],
   "source": [
    "X_train = pca_data\n",
    "X_test = pca.fit_transform(test_data.drop(\"SalePrice\",axis=1))"
   ]
  },
  {
   "cell_type": "code",
   "execution_count": 23,
   "id": "53ec0710",
   "metadata": {},
   "outputs": [
    {
     "data": {
      "text/plain": [
       "RandomForestRegressor(max_depth=50)"
      ]
     },
     "execution_count": 23,
     "metadata": {},
     "output_type": "execute_result"
    }
   ],
   "source": [
    "rf = RandomForestRegressor(max_depth=50)\n",
    "\n",
    "rf.fit(X_train,y_train)"
   ]
  },
  {
   "cell_type": "code",
   "execution_count": 24,
   "id": "9643a29c",
   "metadata": {},
   "outputs": [],
   "source": [
    "predictions = rf.predict(X_test)"
   ]
  },
  {
   "cell_type": "code",
   "execution_count": 25,
   "id": "4054e80b",
   "metadata": {},
   "outputs": [],
   "source": [
    "output = pd.DataFrame({'Id': test['Id'].values, 'SalePrice': predictions})\n",
    "output.to_csv('submission4.csv',index = False )"
   ]
  },
  {
   "cell_type": "code",
   "execution_count": null,
   "id": "853fd92b",
   "metadata": {},
   "outputs": [],
   "source": []
  }
 ],
 "metadata": {
  "kernelspec": {
   "display_name": "Python 3 (ipykernel)",
   "language": "python",
   "name": "python3"
  },
  "language_info": {
   "codemirror_mode": {
    "name": "ipython",
    "version": 3
   },
   "file_extension": ".py",
   "mimetype": "text/x-python",
   "name": "python",
   "nbconvert_exporter": "python",
   "pygments_lexer": "ipython3",
   "version": "3.9.7"
  }
 },
 "nbformat": 4,
 "nbformat_minor": 5
}
